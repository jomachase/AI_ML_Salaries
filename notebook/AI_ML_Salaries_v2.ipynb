{
 "cells": [
  {
   "cell_type": "code",
   "execution_count": 61,
   "id": "30f23259-3e9c-44e6-b024-84df4e4c21fa",
   "metadata": {},
   "outputs": [],
   "source": [
    "#Libraries\n",
    "import pandas as pd\n",
    "import numpy as np\n",
    "import seaborn as sns\n",
    "import matplotlib.pyplot as plt\n",
    "import statistics"
   ]
  },
  {
   "cell_type": "code",
   "execution_count": 62,
   "id": "b7b4af9a-5caf-468c-b12a-cc36dc07aec8",
   "metadata": {},
   "outputs": [],
   "source": [
    "import yaml\n",
    " \n",
    "try:\n",
    "    with open(\"../config.yaml\", \"r\") as file:\n",
    "        config = yaml.safe_load(file)\n",
    "except:\n",
    "    print(\"Yaml configuration file not found!\")"
   ]
  },
  {
   "cell_type": "code",
   "execution_count": 63,
   "id": "a75c188c-2be0-400b-88fc-180d0494d6c2",
   "metadata": {},
   "outputs": [
    {
     "data": {
      "text/plain": [
       "{'input_data': {'file': '../data/raw/salaries.csv'},\n",
       " 'output_data': {'file': '../data/clean/AI_ML_Salaries_clean.csv'}}"
      ]
     },
     "execution_count": 63,
     "metadata": {},
     "output_type": "execute_result"
    }
   ],
   "source": [
    "config"
   ]
  },
  {
   "cell_type": "code",
   "execution_count": 89,
   "id": "24dbe89a-7352-481c-8d60-4fd5b129f17e",
   "metadata": {},
   "outputs": [
    {
     "data": {
      "text/html": [
       "<div>\n",
       "<style scoped>\n",
       "    .dataframe tbody tr th:only-of-type {\n",
       "        vertical-align: middle;\n",
       "    }\n",
       "\n",
       "    .dataframe tbody tr th {\n",
       "        vertical-align: top;\n",
       "    }\n",
       "\n",
       "    .dataframe thead th {\n",
       "        text-align: right;\n",
       "    }\n",
       "</style>\n",
       "<table border=\"1\" class=\"dataframe\">\n",
       "  <thead>\n",
       "    <tr style=\"text-align: right;\">\n",
       "      <th></th>\n",
       "      <th>Year</th>\n",
       "      <th>Experience_Level</th>\n",
       "      <th>Employment_Type</th>\n",
       "      <th>Position</th>\n",
       "      <th>Currency</th>\n",
       "      <th>Salary</th>\n",
       "      <th>Country</th>\n",
       "      <th>Remote_Amount</th>\n",
       "      <th>Company_Size</th>\n",
       "    </tr>\n",
       "  </thead>\n",
       "  <tbody>\n",
       "    <tr>\n",
       "      <th>0</th>\n",
       "      <td>2025</td>\n",
       "      <td>Senior Level</td>\n",
       "      <td>Full-time</td>\n",
       "      <td>Products, Research &amp; Development</td>\n",
       "      <td>USD</td>\n",
       "      <td>170000</td>\n",
       "      <td>US</td>\n",
       "      <td>0</td>\n",
       "      <td>Medium</td>\n",
       "    </tr>\n",
       "    <tr>\n",
       "      <th>1</th>\n",
       "      <td>2025</td>\n",
       "      <td>Senior Level</td>\n",
       "      <td>Full-time</td>\n",
       "      <td>Products, Research &amp; Development</td>\n",
       "      <td>USD</td>\n",
       "      <td>110000</td>\n",
       "      <td>US</td>\n",
       "      <td>0</td>\n",
       "      <td>Medium</td>\n",
       "    </tr>\n",
       "    <tr>\n",
       "      <th>2</th>\n",
       "      <td>2025</td>\n",
       "      <td>Senior Level</td>\n",
       "      <td>Full-time</td>\n",
       "      <td>Products, Research &amp; Development</td>\n",
       "      <td>USD</td>\n",
       "      <td>170000</td>\n",
       "      <td>US</td>\n",
       "      <td>0</td>\n",
       "      <td>Medium</td>\n",
       "    </tr>\n",
       "    <tr>\n",
       "      <th>3</th>\n",
       "      <td>2025</td>\n",
       "      <td>Senior Level</td>\n",
       "      <td>Full-time</td>\n",
       "      <td>Products, Research &amp; Development</td>\n",
       "      <td>USD</td>\n",
       "      <td>110000</td>\n",
       "      <td>US</td>\n",
       "      <td>0</td>\n",
       "      <td>Medium</td>\n",
       "    </tr>\n",
       "    <tr>\n",
       "      <th>4</th>\n",
       "      <td>2025</td>\n",
       "      <td>Senior Level</td>\n",
       "      <td>Full-time</td>\n",
       "      <td>Products, Research &amp; Development</td>\n",
       "      <td>USD</td>\n",
       "      <td>143000</td>\n",
       "      <td>US</td>\n",
       "      <td>0</td>\n",
       "      <td>Medium</td>\n",
       "    </tr>\n",
       "    <tr>\n",
       "      <th>...</th>\n",
       "      <td>...</td>\n",
       "      <td>...</td>\n",
       "      <td>...</td>\n",
       "      <td>...</td>\n",
       "      <td>...</td>\n",
       "      <td>...</td>\n",
       "      <td>...</td>\n",
       "      <td>...</td>\n",
       "      <td>...</td>\n",
       "    </tr>\n",
       "    <tr>\n",
       "      <th>65872</th>\n",
       "      <td>2021</td>\n",
       "      <td>Senior Level</td>\n",
       "      <td>Full-time</td>\n",
       "      <td>Data Science, Engineers &amp; Analytics</td>\n",
       "      <td>USD</td>\n",
       "      <td>165000</td>\n",
       "      <td>US</td>\n",
       "      <td>100</td>\n",
       "      <td>Large</td>\n",
       "    </tr>\n",
       "    <tr>\n",
       "      <th>65873</th>\n",
       "      <td>2020</td>\n",
       "      <td>Senior Level</td>\n",
       "      <td>Full-time</td>\n",
       "      <td>Data Science, Engineers &amp; Analytics</td>\n",
       "      <td>USD</td>\n",
       "      <td>412000</td>\n",
       "      <td>US</td>\n",
       "      <td>100</td>\n",
       "      <td>Large</td>\n",
       "    </tr>\n",
       "    <tr>\n",
       "      <th>65874</th>\n",
       "      <td>2021</td>\n",
       "      <td>Mid Level</td>\n",
       "      <td>Full-time</td>\n",
       "      <td>Data Science, Engineers &amp; Analytics</td>\n",
       "      <td>USD</td>\n",
       "      <td>151000</td>\n",
       "      <td>US</td>\n",
       "      <td>100</td>\n",
       "      <td>Large</td>\n",
       "    </tr>\n",
       "    <tr>\n",
       "      <th>65875</th>\n",
       "      <td>2020</td>\n",
       "      <td>Entry Level</td>\n",
       "      <td>Full-time</td>\n",
       "      <td>Data Science, Engineers &amp; Analytics</td>\n",
       "      <td>USD</td>\n",
       "      <td>105000</td>\n",
       "      <td>US</td>\n",
       "      <td>100</td>\n",
       "      <td>Small</td>\n",
       "    </tr>\n",
       "    <tr>\n",
       "      <th>65876</th>\n",
       "      <td>2020</td>\n",
       "      <td>Entry Level</td>\n",
       "      <td>Contract</td>\n",
       "      <td>Data Science, Engineers &amp; Analytics</td>\n",
       "      <td>USD</td>\n",
       "      <td>100000</td>\n",
       "      <td>US</td>\n",
       "      <td>100</td>\n",
       "      <td>Large</td>\n",
       "    </tr>\n",
       "  </tbody>\n",
       "</table>\n",
       "<p>65877 rows × 9 columns</p>\n",
       "</div>"
      ],
      "text/plain": [
       "       Year Experience_Level Employment_Type  \\\n",
       "0      2025    Senior Level        Full-time   \n",
       "1      2025    Senior Level        Full-time   \n",
       "2      2025    Senior Level        Full-time   \n",
       "3      2025    Senior Level        Full-time   \n",
       "4      2025    Senior Level        Full-time   \n",
       "...     ...              ...             ...   \n",
       "65872  2021    Senior Level        Full-time   \n",
       "65873  2020    Senior Level        Full-time   \n",
       "65874  2021       Mid Level        Full-time   \n",
       "65875  2020     Entry Level        Full-time   \n",
       "65876  2020     Entry Level         Contract   \n",
       "\n",
       "                                  Position Currency  Salary Country  \\\n",
       "0         Products, Research & Development      USD  170000      US   \n",
       "1         Products, Research & Development      USD  110000      US   \n",
       "2         Products, Research & Development      USD  170000      US   \n",
       "3         Products, Research & Development      USD  110000      US   \n",
       "4         Products, Research & Development      USD  143000      US   \n",
       "...                                    ...      ...     ...     ...   \n",
       "65872  Data Science, Engineers & Analytics      USD  165000      US   \n",
       "65873  Data Science, Engineers & Analytics      USD  412000      US   \n",
       "65874  Data Science, Engineers & Analytics      USD  151000      US   \n",
       "65875  Data Science, Engineers & Analytics      USD  105000      US   \n",
       "65876  Data Science, Engineers & Analytics      USD  100000      US   \n",
       "\n",
       "       Remote_Amount Company_Size  \n",
       "0                  0       Medium  \n",
       "1                  0       Medium  \n",
       "2                  0       Medium  \n",
       "3                  0       Medium  \n",
       "4                  0       Medium  \n",
       "...              ...          ...  \n",
       "65872            100        Large  \n",
       "65873            100        Large  \n",
       "65874            100        Large  \n",
       "65875            100        Small  \n",
       "65876            100        Large  \n",
       "\n",
       "[65877 rows x 9 columns]"
      ]
     },
     "execution_count": 89,
     "metadata": {},
     "output_type": "execute_result"
    }
   ],
   "source": [
    "df = pd.read_csv(config['output_data']['file'])\n",
    "df"
   ]
  },
  {
   "cell_type": "code",
   "execution_count": 90,
   "id": "6d865e39-f282-48ec-9b54-8e5f29c56cee",
   "metadata": {},
   "outputs": [
    {
     "data": {
      "text/plain": [
       "Index(['Year', 'Experience_Level', 'Employment_Type', 'Position', 'Currency',\n",
       "       'Salary', 'Country', 'Remote_Amount', 'Company_Size'],\n",
       "      dtype='object')"
      ]
     },
     "execution_count": 90,
     "metadata": {},
     "output_type": "execute_result"
    }
   ],
   "source": [
    "df.columns "
   ]
  },
  {
   "cell_type": "code",
   "execution_count": 91,
   "id": "3a7e7bca-c58e-4f2b-bcc2-e4777423e78f",
   "metadata": {},
   "outputs": [
    {
     "data": {
      "text/plain": [
       "<bound method DataFrame.info of        Year Experience_Level Employment_Type  \\\n",
       "0      2025    Senior Level        Full-time   \n",
       "1      2025    Senior Level        Full-time   \n",
       "2      2025    Senior Level        Full-time   \n",
       "3      2025    Senior Level        Full-time   \n",
       "4      2025    Senior Level        Full-time   \n",
       "...     ...              ...             ...   \n",
       "65872  2021    Senior Level        Full-time   \n",
       "65873  2020    Senior Level        Full-time   \n",
       "65874  2021       Mid Level        Full-time   \n",
       "65875  2020     Entry Level        Full-time   \n",
       "65876  2020     Entry Level         Contract   \n",
       "\n",
       "                                  Position Currency  Salary Country  \\\n",
       "0         Products, Research & Development      USD  170000      US   \n",
       "1         Products, Research & Development      USD  110000      US   \n",
       "2         Products, Research & Development      USD  170000      US   \n",
       "3         Products, Research & Development      USD  110000      US   \n",
       "4         Products, Research & Development      USD  143000      US   \n",
       "...                                    ...      ...     ...     ...   \n",
       "65872  Data Science, Engineers & Analytics      USD  165000      US   \n",
       "65873  Data Science, Engineers & Analytics      USD  412000      US   \n",
       "65874  Data Science, Engineers & Analytics      USD  151000      US   \n",
       "65875  Data Science, Engineers & Analytics      USD  105000      US   \n",
       "65876  Data Science, Engineers & Analytics      USD  100000      US   \n",
       "\n",
       "       Remote_Amount Company_Size  \n",
       "0                  0       Medium  \n",
       "1                  0       Medium  \n",
       "2                  0       Medium  \n",
       "3                  0       Medium  \n",
       "4                  0       Medium  \n",
       "...              ...          ...  \n",
       "65872            100        Large  \n",
       "65873            100        Large  \n",
       "65874            100        Large  \n",
       "65875            100        Small  \n",
       "65876            100        Large  \n",
       "\n",
       "[65877 rows x 9 columns]>"
      ]
     },
     "execution_count": 91,
     "metadata": {},
     "output_type": "execute_result"
    }
   ],
   "source": [
    "# Check data format\n",
    "df.info"
   ]
  },
  {
   "cell_type": "code",
   "execution_count": 92,
   "id": "7e392afa-4d53-470b-a63d-0bb937053a61",
   "metadata": {},
   "outputs": [
    {
     "data": {
      "text/plain": [
       "(65877, 9)"
      ]
     },
     "execution_count": 92,
     "metadata": {},
     "output_type": "execute_result"
    }
   ],
   "source": [
    "# Check # of rows and columns\n",
    "df.shape"
   ]
  },
  {
   "cell_type": "code",
   "execution_count": 93,
   "id": "95890b5b-7345-44dc-ad73-360684b4abeb",
   "metadata": {},
   "outputs": [
    {
     "data": {
      "text/plain": [
       "Year                 int64\n",
       "Experience_Level    object\n",
       "Employment_Type     object\n",
       "Position            object\n",
       "Currency            object\n",
       "Salary               int64\n",
       "Country             object\n",
       "Remote_Amount        int64\n",
       "Company_Size        object\n",
       "dtype: object"
      ]
     },
     "execution_count": 93,
     "metadata": {},
     "output_type": "execute_result"
    }
   ],
   "source": [
    "# Check for numbers and strings\n",
    "df.dtypes"
   ]
  },
  {
   "cell_type": "code",
   "execution_count": 94,
   "id": "36bd6ab2-3413-4308-8606-4515835389d2",
   "metadata": {},
   "outputs": [
    {
     "data": {
      "text/plain": [
       "Year                False\n",
       "Experience_Level    False\n",
       "Employment_Type     False\n",
       "Position            False\n",
       "Currency            False\n",
       "Salary              False\n",
       "Country             False\n",
       "Remote_Amount       False\n",
       "Company_Size        False\n",
       "dtype: bool"
      ]
     },
     "execution_count": 94,
     "metadata": {},
     "output_type": "execute_result"
    }
   ],
   "source": [
    "# Check for null values\n",
    "df.isna().any()"
   ]
  },
  {
   "cell_type": "code",
   "execution_count": 95,
   "id": "936b79f7-81e2-4333-9ab9-cb4bf26b034a",
   "metadata": {},
   "outputs": [
    {
     "data": {
      "text/plain": [
       "[dtype('int64'), dtype('O')]"
      ]
     },
     "execution_count": 95,
     "metadata": {},
     "output_type": "execute_result"
    }
   ],
   "source": [
    "list(set(df.dtypes.tolist()))"
   ]
  },
  {
   "cell_type": "code",
   "execution_count": 96,
   "id": "6ba88352-e42a-48da-8695-bd85ce3d19bc",
   "metadata": {},
   "outputs": [
    {
     "data": {
      "text/plain": [
       "Index(['Year', 'Salary', 'Remote_Amount'], dtype='object')"
      ]
     },
     "execution_count": 96,
     "metadata": {},
     "output_type": "execute_result"
    }
   ],
   "source": [
    "# Extracting column names with numerical data types from the dataframe\n",
    "df.select_dtypes(\"number\").columns"
   ]
  },
  {
   "cell_type": "code",
   "execution_count": 97,
   "id": "5e3ee14b-659b-4a4d-a656-19c7c07706a8",
   "metadata": {},
   "outputs": [
    {
     "data": {
      "text/plain": [
       "Index(['Experience_Level', 'Employment_Type', 'Position', 'Currency',\n",
       "       'Country', 'Company_Size'],\n",
       "      dtype='object')"
      ]
     },
     "execution_count": 97,
     "metadata": {},
     "output_type": "execute_result"
    }
   ],
   "source": [
    "# Extracting column names with categorical data types from the dataframe\n",
    "df.select_dtypes(\"object\").columns"
   ]
  },
  {
   "cell_type": "code",
   "execution_count": 98,
   "id": "0c11ef25-e49d-4ac7-b164-bdcdebc74b76",
   "metadata": {},
   "outputs": [
    {
     "data": {
      "text/plain": [
       "Salary           6173\n",
       "Year                6\n",
       "Remote_Amount       3\n",
       "dtype: int64"
      ]
     },
     "execution_count": 98,
     "metadata": {},
     "output_type": "execute_result"
    }
   ],
   "source": [
    "# Counting and sorting the unique values for each numerical column in descending order\n",
    "df.select_dtypes(\"number\").nunique().sort_values(ascending=False)"
   ]
  },
  {
   "cell_type": "code",
   "execution_count": 99,
   "id": "b9445930-615b-489c-876d-d804b2b8c6ec",
   "metadata": {},
   "outputs": [
    {
     "data": {
      "text/plain": [
       "Position            6\n",
       "Experience_Level    4\n",
       "Employment_Type     3\n",
       "Company_Size        3\n",
       "Currency            1\n",
       "Country             1\n",
       "dtype: int64"
      ]
     },
     "execution_count": 99,
     "metadata": {},
     "output_type": "execute_result"
    }
   ],
   "source": [
    "# Counting and sorting the unique values for each numerical column in descending order\n",
    "df.select_dtypes(\"object\").nunique().sort_values(ascending=False)"
   ]
  },
  {
   "cell_type": "code",
   "execution_count": 100,
   "id": "8df8cd00-63cb-45a8-b56a-d21302da812c",
   "metadata": {},
   "outputs": [
    {
     "data": {
      "text/html": [
       "<div>\n",
       "<style scoped>\n",
       "    .dataframe tbody tr th:only-of-type {\n",
       "        vertical-align: middle;\n",
       "    }\n",
       "\n",
       "    .dataframe tbody tr th {\n",
       "        vertical-align: top;\n",
       "    }\n",
       "\n",
       "    .dataframe thead th {\n",
       "        text-align: right;\n",
       "    }\n",
       "</style>\n",
       "<table border=\"1\" class=\"dataframe\">\n",
       "  <thead>\n",
       "    <tr style=\"text-align: right;\">\n",
       "      <th></th>\n",
       "      <th>Year</th>\n",
       "      <th>Salary</th>\n",
       "      <th>Remote_Amount</th>\n",
       "    </tr>\n",
       "  </thead>\n",
       "  <tbody>\n",
       "    <tr>\n",
       "      <th>0</th>\n",
       "      <td>2025</td>\n",
       "      <td>170000</td>\n",
       "      <td>0</td>\n",
       "    </tr>\n",
       "    <tr>\n",
       "      <th>1</th>\n",
       "      <td>2025</td>\n",
       "      <td>110000</td>\n",
       "      <td>0</td>\n",
       "    </tr>\n",
       "    <tr>\n",
       "      <th>2</th>\n",
       "      <td>2025</td>\n",
       "      <td>170000</td>\n",
       "      <td>0</td>\n",
       "    </tr>\n",
       "    <tr>\n",
       "      <th>3</th>\n",
       "      <td>2025</td>\n",
       "      <td>110000</td>\n",
       "      <td>0</td>\n",
       "    </tr>\n",
       "    <tr>\n",
       "      <th>4</th>\n",
       "      <td>2025</td>\n",
       "      <td>143000</td>\n",
       "      <td>0</td>\n",
       "    </tr>\n",
       "    <tr>\n",
       "      <th>...</th>\n",
       "      <td>...</td>\n",
       "      <td>...</td>\n",
       "      <td>...</td>\n",
       "    </tr>\n",
       "    <tr>\n",
       "      <th>65872</th>\n",
       "      <td>2021</td>\n",
       "      <td>165000</td>\n",
       "      <td>100</td>\n",
       "    </tr>\n",
       "    <tr>\n",
       "      <th>65873</th>\n",
       "      <td>2020</td>\n",
       "      <td>412000</td>\n",
       "      <td>100</td>\n",
       "    </tr>\n",
       "    <tr>\n",
       "      <th>65874</th>\n",
       "      <td>2021</td>\n",
       "      <td>151000</td>\n",
       "      <td>100</td>\n",
       "    </tr>\n",
       "    <tr>\n",
       "      <th>65875</th>\n",
       "      <td>2020</td>\n",
       "      <td>105000</td>\n",
       "      <td>100</td>\n",
       "    </tr>\n",
       "    <tr>\n",
       "      <th>65876</th>\n",
       "      <td>2020</td>\n",
       "      <td>100000</td>\n",
       "      <td>100</td>\n",
       "    </tr>\n",
       "  </tbody>\n",
       "</table>\n",
       "<p>65877 rows × 3 columns</p>\n",
       "</div>"
      ],
      "text/plain": [
       "       Year  Salary  Remote_Amount\n",
       "0      2025  170000              0\n",
       "1      2025  110000              0\n",
       "2      2025  170000              0\n",
       "3      2025  110000              0\n",
       "4      2025  143000              0\n",
       "...     ...     ...            ...\n",
       "65872  2021  165000            100\n",
       "65873  2020  412000            100\n",
       "65874  2021  151000            100\n",
       "65875  2020  105000            100\n",
       "65876  2020  100000            100\n",
       "\n",
       "[65877 rows x 3 columns]"
      ]
     },
     "execution_count": 100,
     "metadata": {},
     "output_type": "execute_result"
    }
   ],
   "source": [
    "# Showing only numbers\n",
    "only_num = df.select_dtypes(\"number\")\n",
    "only_num "
   ]
  },
  {
   "cell_type": "code",
   "execution_count": 102,
   "id": "62a3fe11-8172-427b-ae2f-d23d6ec3ca9b",
   "metadata": {},
   "outputs": [
    {
     "data": {
      "text/html": [
       "<div>\n",
       "<style scoped>\n",
       "    .dataframe tbody tr th:only-of-type {\n",
       "        vertical-align: middle;\n",
       "    }\n",
       "\n",
       "    .dataframe tbody tr th {\n",
       "        vertical-align: top;\n",
       "    }\n",
       "\n",
       "    .dataframe thead th {\n",
       "        text-align: right;\n",
       "    }\n",
       "</style>\n",
       "<table border=\"1\" class=\"dataframe\">\n",
       "  <thead>\n",
       "    <tr style=\"text-align: right;\">\n",
       "      <th></th>\n",
       "      <th>Experience_Level</th>\n",
       "      <th>Employment_Type</th>\n",
       "      <th>Position</th>\n",
       "      <th>Currency</th>\n",
       "      <th>Country</th>\n",
       "      <th>Company_Size</th>\n",
       "    </tr>\n",
       "  </thead>\n",
       "  <tbody>\n",
       "    <tr>\n",
       "      <th>0</th>\n",
       "      <td>Senior Level</td>\n",
       "      <td>Full-time</td>\n",
       "      <td>Products, Research &amp; Development</td>\n",
       "      <td>USD</td>\n",
       "      <td>US</td>\n",
       "      <td>Medium</td>\n",
       "    </tr>\n",
       "    <tr>\n",
       "      <th>1</th>\n",
       "      <td>Senior Level</td>\n",
       "      <td>Full-time</td>\n",
       "      <td>Products, Research &amp; Development</td>\n",
       "      <td>USD</td>\n",
       "      <td>US</td>\n",
       "      <td>Medium</td>\n",
       "    </tr>\n",
       "    <tr>\n",
       "      <th>2</th>\n",
       "      <td>Senior Level</td>\n",
       "      <td>Full-time</td>\n",
       "      <td>Products, Research &amp; Development</td>\n",
       "      <td>USD</td>\n",
       "      <td>US</td>\n",
       "      <td>Medium</td>\n",
       "    </tr>\n",
       "    <tr>\n",
       "      <th>3</th>\n",
       "      <td>Senior Level</td>\n",
       "      <td>Full-time</td>\n",
       "      <td>Products, Research &amp; Development</td>\n",
       "      <td>USD</td>\n",
       "      <td>US</td>\n",
       "      <td>Medium</td>\n",
       "    </tr>\n",
       "    <tr>\n",
       "      <th>4</th>\n",
       "      <td>Senior Level</td>\n",
       "      <td>Full-time</td>\n",
       "      <td>Products, Research &amp; Development</td>\n",
       "      <td>USD</td>\n",
       "      <td>US</td>\n",
       "      <td>Medium</td>\n",
       "    </tr>\n",
       "    <tr>\n",
       "      <th>...</th>\n",
       "      <td>...</td>\n",
       "      <td>...</td>\n",
       "      <td>...</td>\n",
       "      <td>...</td>\n",
       "      <td>...</td>\n",
       "      <td>...</td>\n",
       "    </tr>\n",
       "    <tr>\n",
       "      <th>65872</th>\n",
       "      <td>Senior Level</td>\n",
       "      <td>Full-time</td>\n",
       "      <td>Data Science, Engineers &amp; Analytics</td>\n",
       "      <td>USD</td>\n",
       "      <td>US</td>\n",
       "      <td>Large</td>\n",
       "    </tr>\n",
       "    <tr>\n",
       "      <th>65873</th>\n",
       "      <td>Senior Level</td>\n",
       "      <td>Full-time</td>\n",
       "      <td>Data Science, Engineers &amp; Analytics</td>\n",
       "      <td>USD</td>\n",
       "      <td>US</td>\n",
       "      <td>Large</td>\n",
       "    </tr>\n",
       "    <tr>\n",
       "      <th>65874</th>\n",
       "      <td>Mid Level</td>\n",
       "      <td>Full-time</td>\n",
       "      <td>Data Science, Engineers &amp; Analytics</td>\n",
       "      <td>USD</td>\n",
       "      <td>US</td>\n",
       "      <td>Large</td>\n",
       "    </tr>\n",
       "    <tr>\n",
       "      <th>65875</th>\n",
       "      <td>Entry Level</td>\n",
       "      <td>Full-time</td>\n",
       "      <td>Data Science, Engineers &amp; Analytics</td>\n",
       "      <td>USD</td>\n",
       "      <td>US</td>\n",
       "      <td>Small</td>\n",
       "    </tr>\n",
       "    <tr>\n",
       "      <th>65876</th>\n",
       "      <td>Entry Level</td>\n",
       "      <td>Contract</td>\n",
       "      <td>Data Science, Engineers &amp; Analytics</td>\n",
       "      <td>USD</td>\n",
       "      <td>US</td>\n",
       "      <td>Large</td>\n",
       "    </tr>\n",
       "  </tbody>\n",
       "</table>\n",
       "<p>65877 rows × 6 columns</p>\n",
       "</div>"
      ],
      "text/plain": [
       "      Experience_Level Employment_Type                             Position  \\\n",
       "0        Senior Level        Full-time     Products, Research & Development   \n",
       "1        Senior Level        Full-time     Products, Research & Development   \n",
       "2        Senior Level        Full-time     Products, Research & Development   \n",
       "3        Senior Level        Full-time     Products, Research & Development   \n",
       "4        Senior Level        Full-time     Products, Research & Development   \n",
       "...                ...             ...                                  ...   \n",
       "65872    Senior Level        Full-time  Data Science, Engineers & Analytics   \n",
       "65873    Senior Level        Full-time  Data Science, Engineers & Analytics   \n",
       "65874       Mid Level        Full-time  Data Science, Engineers & Analytics   \n",
       "65875     Entry Level        Full-time  Data Science, Engineers & Analytics   \n",
       "65876     Entry Level         Contract  Data Science, Engineers & Analytics   \n",
       "\n",
       "      Currency Country Company_Size  \n",
       "0          USD      US       Medium  \n",
       "1          USD      US       Medium  \n",
       "2          USD      US       Medium  \n",
       "3          USD      US       Medium  \n",
       "4          USD      US       Medium  \n",
       "...        ...     ...          ...  \n",
       "65872      USD      US        Large  \n",
       "65873      USD      US        Large  \n",
       "65874      USD      US        Large  \n",
       "65875      USD      US        Small  \n",
       "65876      USD      US        Large  \n",
       "\n",
       "[65877 rows x 6 columns]"
      ]
     },
     "execution_count": 102,
     "metadata": {},
     "output_type": "execute_result"
    }
   ],
   "source": [
    "# Showing only object\n",
    "only_cat = df.select_dtypes(\"object\")\n",
    "only_cat "
   ]
  },
  {
   "cell_type": "code",
   "execution_count": null,
   "id": "f197d5e9-2d38-41a4-ac66-23ba2e74a135",
   "metadata": {},
   "outputs": [],
   "source": []
  }
 ],
 "metadata": {
  "kernelspec": {
   "display_name": "ironhack",
   "language": "python",
   "name": "ironhack"
  },
  "language_info": {
   "codemirror_mode": {
    "name": "ipython",
    "version": 3
   },
   "file_extension": ".py",
   "mimetype": "text/x-python",
   "name": "python",
   "nbconvert_exporter": "python",
   "pygments_lexer": "ipython3",
   "version": "3.13.7"
  }
 },
 "nbformat": 4,
 "nbformat_minor": 5
}
